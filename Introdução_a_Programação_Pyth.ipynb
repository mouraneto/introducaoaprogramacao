{
  "cells": [
    {
      "cell_type": "markdown",
      "metadata": {
        "id": "view-in-github",
        "colab_type": "text"
      },
      "source": [
        "<a href=\"https://colab.research.google.com/github/mouraneto/introducaoaprogramacao/blob/main/Introdu%C3%A7%C3%A3o_a_Programa%C3%A7%C3%A3o_Pyth.ipynb\" target=\"_parent\"><img src=\"https://colab.research.google.com/assets/colab-badge.svg\" alt=\"Open In Colab\"/></a>"
      ]
    },
    {
      "cell_type": "code",
      "execution_count": null,
      "metadata": {
        "colab": {
          "base_uri": "https://localhost:8080/",
          "height": 36
        },
        "id": "JEa8LXMKLLtb",
        "outputId": "c5123fb8-6996-4c8e-b04b-f8747b8553d5"
      },
      "outputs": [
        {
          "data": {
            "application/vnd.google.colaboratory.intrinsic+json": {
              "type": "string"
            },
            "text/plain": [
              "'tem 21 anos'"
            ]
          },
          "execution_count": 31,
          "metadata": {},
          "output_type": "execute_result"
        }
      ],
      "source": [
        "pri = \"João\"\n",
        "meio = \" Moura\"\n",
        "Nome = \" Neto\"\n",
        "idade = 21\n",
        "a = pri\n",
        "b = meio\n",
        "c = Nome\n",
        "\n",
        "\"tem %d anos\" % idade"
      ]
    },
    {
      "cell_type": "code",
      "execution_count": null,
      "metadata": {
        "colab": {
          "base_uri": "https://localhost:8080/",
          "height": 36
        },
        "id": "EtyudbVyP2CY",
        "outputId": "8b1c1c52-acd3-4749-a015-408159990b00"
      },
      "outputs": [
        {
          "data": {
            "application/vnd.google.colaboratory.intrinsic+json": {
              "type": "string"
            },
            "text/plain": [
              "'joao tem 40 anos'"
            ]
          },
          "execution_count": 32,
          "metadata": {},
          "output_type": "execute_result"
        }
      ],
      "source": [
        "idade = 40\n",
        "grana = 40.50\n",
        "nome = c\n",
        "\"joao tem {} anos\" .format(idade)"
      ]
    },
    {
      "cell_type": "code",
      "execution_count": null,
      "metadata": {
        "colab": {
          "base_uri": "https://localhost:8080/",
          "height": 36
        },
        "id": "gSOAs0AzQmr9",
        "outputId": "058d98cd-984a-432c-d217-7498e9a3fae5"
      },
      "outputs": [
        {
          "data": {
            "application/vnd.google.colaboratory.intrinsic+json": {
              "type": "string"
            },
            "text/plain": [
              "'joao tem 40 anos'"
            ]
          },
          "execution_count": 33,
          "metadata": {},
          "output_type": "execute_result"
        }
      ],
      "source": [
        "f\"joao tem {idade} anos\""
      ]
    },
    {
      "cell_type": "code",
      "execution_count": null,
      "metadata": {
        "colab": {
          "base_uri": "https://localhost:8080/",
          "height": 36
        },
        "id": "evLmSun7Q0Oi",
        "outputId": "7f6fa541-4f8d-4a74-ae80-3136ecbc2632"
      },
      "outputs": [
        {
          "data": {
            "application/vnd.google.colaboratory.intrinsic+json": {
              "type": "string"
            },
            "text/plain": [
              "'João tem 30 anos e R$450.32456 no bolso'"
            ]
          },
          "execution_count": 34,
          "metadata": {},
          "output_type": "execute_result"
        }
      ],
      "source": [
        "#função pra escrita de textos\n",
        "\n",
        "nome = \"João\"\n",
        "idade  = 30\n",
        "grana = 450.32456\n",
        "\n",
        "\n",
        "f\"{nome} tem {idade} anos e R${grana} no bolso\""
      ]
    },
    {
      "cell_type": "code",
      "execution_count": null,
      "metadata": {
        "colab": {
          "base_uri": "https://localhost:8080/",
          "height": 36
        },
        "id": "mP5KSn1jRlaS",
        "outputId": "c4688f43-4e6c-47d0-acf2-02e608491cd1"
      },
      "outputs": [
        {
          "data": {
            "application/vnd.google.colaboratory.intrinsic+json": {
              "type": "string"
            },
            "text/plain": [
              "'joaonetojoaonetojoaoneto'"
            ]
          },
          "execution_count": 35,
          "metadata": {},
          "output_type": "execute_result"
        }
      ],
      "source": [
        "#concatenação\n",
        "\n",
        "g = \"joao\" + \"neto\"\n",
        "\n",
        "g*3"
      ]
    },
    {
      "cell_type": "code",
      "execution_count": null,
      "metadata": {
        "colab": {
          "base_uri": "https://localhost:8080/"
        },
        "id": "HlwMJ-_YF2QZ",
        "outputId": "7c0d8038-4590-42f2-c0f1-1ec70cb2ab02"
      },
      "outputs": [
        {
          "data": {
            "text/plain": [
              "44"
            ]
          },
          "execution_count": 36,
          "metadata": {},
          "output_type": "execute_result"
        }
      ],
      "source": [
        "a = \"pneum out ram icroscopicosilicovulcanocaniotico\"\n",
        "n = [i for i in a if i != \" \"]\n",
        "len(n)"
      ]
    },
    {
      "cell_type": "code",
      "execution_count": null,
      "metadata": {
        "colab": {
          "base_uri": "https://localhost:8080/"
        },
        "id": "QHJaqYWXSHf5",
        "outputId": "d4b2939d-b705-4b87-9dd8-3df7e641f900"
      },
      "outputs": [
        {
          "name": "stdout",
          "output_type": "stream",
          "text": [
            "digite um numero:12\n"
          ]
        }
      ],
      "source": [
        "x = input(\"digite um numero:\")"
      ]
    },
    {
      "cell_type": "code",
      "execution_count": null,
      "metadata": {
        "id": "jtULLwlZTA6Y"
      },
      "outputs": [],
      "source": []
    },
    {
      "cell_type": "code",
      "execution_count": null,
      "metadata": {
        "colab": {
          "base_uri": "https://localhost:8080/",
          "height": 105
        },
        "id": "9jHd30ghTPa6",
        "outputId": "565ac62a-7666-4e1d-d722-7c034db9a624"
      },
      "outputs": [
        {
          "name": "stdout",
          "output_type": "stream",
          "text": [
            "primeiro_termo1\n",
            "segundo_termo2\n",
            "terceiro_termo3\n",
            "seu nome neto\n"
          ]
        },
        {
          "data": {
            "application/vnd.google.colaboratory.intrinsic+json": {
              "type": "string"
            },
            "text/plain": [
              "'meu nome é neto e o resultado é -8'"
            ]
          },
          "execution_count": 38,
          "metadata": {},
          "output_type": "execute_result"
        }
      ],
      "source": [
        "#calculadora delta\n",
        "a = int(input(\"primeiro_termo\"));\n",
        "b = int(input(\"segundo_termo\"));\n",
        "c = int(input(\"terceiro_termo\"));\n",
        "nome = str(input(\"seu nome \"));\n",
        "delta = (b **2) - 4 * (a * c);\n",
        "resultado = f\"meu nome é {nome} e o resultado é {delta}\"\n",
        "\n",
        "resultado"
      ]
    },
    {
      "cell_type": "code",
      "execution_count": null,
      "metadata": {
        "colab": {
          "base_uri": "https://localhost:8080/",
          "height": 88
        },
        "id": "ZCHNTNdlTZZG",
        "outputId": "c208904f-42d5-4c96-d20d-1ce44c602acc"
      },
      "outputs": [
        {
          "name": "stdout",
          "output_type": "stream",
          "text": [
            "Seu nome é: neto\n",
            "Digite seu salário atual:1000\n",
            "Quanto (em porcento) você quer de aumento de salário?:10\n"
          ]
        },
        {
          "data": {
            "application/vnd.google.colaboratory.intrinsic+json": {
              "type": "string"
            },
            "text/plain": [
              "'Seu novo salário é R$1100.0 aproveite neto'"
            ]
          },
          "execution_count": 39,
          "metadata": {},
          "output_type": "execute_result"
        }
      ],
      "source": [
        "# programa de aumento de salário\n",
        "\n",
        "nome = input(\"Seu nome é: \")\n",
        "salario = int(input(\"Digite seu salário atual:\"));\n",
        "aumento = int(input(\"Quanto (em porcento) você quer de aumento de salário?:\"));\n",
        "resultado = str(salario * (aumento * 0.01) + salario);\n",
        "total = f\"Seu novo salário é R${resultado} aproveite {nome}\"\n",
        "total\n",
        "\n"
      ]
    },
    {
      "cell_type": "code",
      "execution_count": null,
      "metadata": {
        "colab": {
          "base_uri": "https://localhost:8080/",
          "height": 88
        },
        "id": "kwUE60k9Ta_L",
        "outputId": "df6f9427-7a41-4617-97d7-fab87aef16e1"
      },
      "outputs": [
        {
          "name": "stdout",
          "output_type": "stream",
          "text": [
            "Seu dinheiro:1233\n",
            "taxa de juros12\n",
            "tempo:3\n"
          ]
        },
        {
          "data": {
            "application/vnd.google.colaboratory.intrinsic+json": {
              "type": "string"
            },
            "text/plain": [
              "'seu dinheiro é 1732.2762240000004'"
            ]
          },
          "execution_count": 40,
          "metadata": {},
          "output_type": "execute_result"
        }
      ],
      "source": [
        "# Calculadora de Juros\n",
        "#formila de juros = M(C * (1+i ** t))\n",
        "C = float(input(\"Seu dinheiro:\"));\n",
        "i = float(input(\"taxa de juros\")) / 100;\n",
        "t = float(input(\"tempo:\"));\n",
        "M = (C*((1+i)**t))\n",
        "res = f\"seu dinheiro é {M}\"\n",
        "res\n",
        "\n"
      ]
    },
    {
      "cell_type": "code",
      "execution_count": null,
      "metadata": {
        "colab": {
          "base_uri": "https://localhost:8080/"
        },
        "id": "uxQSX5lJXpJy",
        "outputId": "6a772f0d-d9f1-438d-c19e-f2e610fefa77"
      },
      "outputs": [
        {
          "name": "stdout",
          "output_type": "stream",
          "text": [
            "Escreva seu nome:neto\n",
            "Digite seu salário atual:1000\n",
            "quanto vc quer de aumento:23\n",
            "Seu novo salário é R$1230.00, e a porcentagem do aumento foi de 23.0%\n"
          ]
        }
      ],
      "source": [
        "#Aumento de salário\n",
        "\n",
        "nome=str(input(\"Escreva seu nome:\"))\n",
        "salario=float(input(\"Digite seu salário atual:\"))\n",
        "aumento=float(input(\"quanto vc quer de aumento:\"))\n",
        "total=salario*(1+(aumento / 100))\n",
        "res=f\"Seu novo salário é R${total:.2f}, e a porcentagem do aumento foi de {aumento}%\"\n",
        "\n",
        "#teste\n",
        "if total >= salario*2:\n",
        "    print(f\"O salário novo não pode exceder o dobro do antigo!! O resultado foi R${total:.2f}\")\n",
        "\n",
        "else:\n",
        "  print(res)\n",
        "\n"
      ]
    },
    {
      "cell_type": "code",
      "execution_count": null,
      "metadata": {
        "colab": {
          "base_uri": "https://localhost:8080/",
          "height": 106
        },
        "id": "Lxgm2002MhIU",
        "outputId": "a04facea-7bca-4708-bf04-3f0f053eeb44"
      },
      "outputs": [
        {
          "ename": "SyntaxError",
          "evalue": "f-string: empty expression not allowed (<ipython-input-42-c2f0973d1d23>, line 9)",
          "output_type": "error",
          "traceback": [
            "\u001b[0;36m  File \u001b[0;32m\"<ipython-input-42-c2f0973d1d23>\"\u001b[0;36m, line \u001b[0;32m9\u001b[0m\n\u001b[0;31m    print(f\"Seu cargo é {} e seu novo salário é R${salario*a: .f2}\")\u001b[0m\n\u001b[0m                                                                   ^\u001b[0m\n\u001b[0;31mSyntaxError\u001b[0m\u001b[0;31m:\u001b[0m f-string: empty expression not allowed\n"
          ]
        }
      ],
      "source": [
        "# JR, pleno ou senior. complexa\n",
        "\n",
        "nome = str(input(\"seu nome é: \"))\n",
        "salario = float(input(\"seu salario é R$:\"))\n",
        "ques_nivel = input(\"Qual o seu nivel?(Digite (a) para Júnior, (b) para Pleno e (c) para Sênior: \")\n",
        "cargo = {a : 1.10, b :1.20 ,c :1.30}\n",
        "\n",
        "if ques_nivel == \"a\":\n",
        "  print(f\"Seu cargo é {} e seu novo salário é R${salario*a: .f2}\")\n",
        "\n"
      ]
    },
    {
      "cell_type": "code",
      "execution_count": null,
      "metadata": {
        "id": "MGWsVsOsUqwB"
      },
      "outputs": [],
      "source": [
        "#calculadora de cargos simples\n",
        "\n",
        "nome = input(\"Seu nome é:\")\n",
        "cargo = input(\"Seu cargo é:\")\n",
        "salario = float(input(\"Qual o seu salário atual?:\"))\n",
        "junior = 1.10\n",
        "pleno = 1.20\n",
        "senior = 1.30\n",
        "\n",
        "if cargo == \"junior\":\n",
        "  print(f\"Ola {nome}, já que seu cargo é {cargo} e seU novo salário é R${salario * junior}\")\n",
        "elif cargo == \"pleno\":\n",
        "  print(f\"Ola {nome}, já que seu cargo é {cargo} e seU novo salário é R${salario * pleno}\")\n",
        "elif cargo == \"senior\":\n",
        "  print(f\"Ola {nome}, já que seu cargo é {cargo} e seU novo salário é R${(salario * senior)}\")\n",
        "\n",
        "else:\n",
        "  print(\"ALGO DEU ERRADO\")"
      ]
    },
    {
      "cell_type": "markdown",
      "metadata": {
        "id": "DyQUU3bCOmit"
      },
      "source": []
    },
    {
      "cell_type": "code",
      "execution_count": null,
      "metadata": {
        "id": "scRE18vLGFVq"
      },
      "outputs": [],
      "source": [
        "# calculadora de bhascara\n",
        "#\n",
        "\n",
        "a=float(input(\"a:\"))\n",
        "b=float(input(\"b:\"))\n",
        "c=float(input(\"c:\"))\n",
        "\n",
        "delta = (b**2) - (4 *(a*c))\n",
        "bh = ((-b + (delta ** (1/2))) / (2*a))\n",
        "nbh = ((-b - (delta ** (1/2))) / (2*a))\n",
        "\n",
        "\n",
        "print(f\"as raizes são {bh: .2f} e {nbh: .2f}, e o valor do delta é {delta}\")\n",
        "\n",
        "\n",
        "\n"
      ]
    },
    {
      "cell_type": "code",
      "execution_count": null,
      "metadata": {
        "id": "-lSMi7HgV6yi"
      },
      "outputs": [],
      "source": [
        "for i in range(1,100 ):\n",
        "\n",
        "  print(i)"
      ]
    },
    {
      "cell_type": "code",
      "execution_count": null,
      "metadata": {
        "id": "JHMPSNR4YjXp"
      },
      "outputs": [],
      "source": [
        "fim = float(input(\"digite o ultimo numero:\"))\n",
        "x = 1\n",
        "if type(fim) != float:\n",
        "  print(\"nao é numero\")\n",
        "else:\n",
        "  while x <= fim:\n",
        "      print(x)\n",
        "      x = x + 1"
      ]
    },
    {
      "cell_type": "code",
      "execution_count": null,
      "metadata": {
        "id": "VKhtypusaTGC"
      },
      "outputs": [],
      "source": [
        "exit = False\n",
        "while not exit:\n",
        "  exit = input(\"Você quer sair?\")\n",
        "  if exit == \"Sim\":\n",
        "    exit = True\n",
        "    print(\"Tchau\")\n",
        "\n",
        "  elif exit == \"sim\":\n",
        "    exit = False\n",
        "    print(\"Com letra maiúscula, burro!\")\n",
        "\n",
        "  else:\n",
        "    exit = False\n",
        "    print(\"tem que escrever sim!!!!!!!!!!!!!\")"
      ]
    },
    {
      "cell_type": "code",
      "execution_count": null,
      "metadata": {
        "id": "N1qPoGXoXpwR"
      },
      "outputs": [],
      "source": [
        "exit = False\n",
        "while not exit:\n",
        "  exit = input(\"quer sir:\")\n",
        "  if exit == \"sim\":\n",
        "    exit = True\n",
        "    print(\"tchau\")\n",
        "  else:\n",
        "    exit = False\n",
        "    print(\"thaooo\")\n",
        "\n"
      ]
    },
    {
      "cell_type": "code",
      "execution_count": null,
      "metadata": {
        "id": "QTU9-d3cXA8a"
      },
      "outputs": [],
      "source": [
        "pergunta = input(\"qual calculadora vc quer?: b para bhascara, s para salário e j para juros\")\n",
        "exit = False\n",
        "\n",
        "if pergunta == \"b\":\n",
        "    #calculadora de bhascara\n",
        "\n",
        "    a=float(input(\"a:\"))\n",
        "    b=float(input(\"b:\"))\n",
        "    c=float(input(\"c:\"))\n",
        "\n",
        "    delta = (b**2) - (4 *(a*c))\n",
        "    bh = ((-b + (delta ** (1/2))) / (2*a))\n",
        "    nbh = ((-b - (delta ** (1/2))) / (2*a))\n",
        "    print(f\"as raizes são {bh: .2f} e {nbh: .2f}, e o valor do delta é {delta}\")\n",
        "\n",
        "elif pergunta == \"j\":\n",
        "        # Calculadora de Juros\n",
        "        #formila de juros = M(C * (1+i ** t))\n",
        "        C = float(input(\"Seu dinheiro:\"))\n",
        "        i = float(input(\"taxa de juros\")) / 100\n",
        "        t = float(input(\"tempo:\"))\n",
        "        M = (C*((1+i)**t))\n",
        "\n",
        "        res = f\"seu dinheiro é {M}\"\n",
        "\n",
        "        print(res)\n",
        "\n",
        "elif pergunta == \"s\":\n",
        "    nome=str(input(\"Escreva seu nome:\"))\n",
        "    salario=float(input(\"Digite seu salário atual:\"))\n",
        "    aumento=float(input(\"quanto vc quer de aumento:\"))\n",
        "    total=salario*(1+(aumento / 100))\n",
        "    res=f\"Seu novo salário é R${total:.2f}, e a porcentagem do aumento foi de {aumento}%\"\n",
        "\n",
        "    if total >= salario*2:\n",
        "        print(f\"O salário novo não pode exceder o dobro do antigo!! O resultado foi R${total:.2f}\")\n",
        "\n",
        "    else:\n",
        "        print(res)\n",
        "\n",
        "else:\n",
        "    pergunta = input(\"quer sair?:\")\n",
        "    if pergunta == \"sim\":\n",
        "        exit = True\n",
        "    else:\n",
        "        exit = False\n",
        "        print(\"tente de novo, ou arrume o código\")\n"
      ]
    },
    {
      "cell_type": "code",
      "execution_count": null,
      "metadata": {
        "id": "B2ti-vOcXBzK"
      },
      "outputs": [],
      "source": [
        "# Tabuada\n",
        "\n",
        "x = 1\n",
        "n = int(input(\"Qual número?:\"))\n",
        "\n",
        "while x <= 100:\n",
        "  r = x*n\n",
        "  x = x + 1\n",
        "  print(f\"{n}x{x -1}={r}\")"
      ]
    },
    {
      "cell_type": "code",
      "execution_count": null,
      "metadata": {
        "id": "ST7ZFAuiXUfw"
      },
      "outputs": [],
      "source": [
        "exit = False\n",
        "while not exit:\n",
        "    exit =\n",
        "    pergunta = input(\"qual calculadora vc quer?: bhascara, salário, juros, tabuada (use a primeira letra de cada)\")\n",
        "        if pergunta == \"b\":\n",
        "                a=float(input(\"a:\"))\n",
        "                b=float(input(\"b:\"))\n",
        "                c=float(input(\"c:\"))\n",
        "                delta = (b**2) - (4 *(a*c))\n",
        "                bh = ((-b + (delta ** (1/2))) / (2*a))\n",
        "                nbh = ((-b - (delta ** (1/2))) / (2*a))\n",
        "                print(f\"as raizes são {bh: .2f} e {nbh: .2f}, e o valor do delta é {delta}\")\n",
        "\n",
        "\n",
        "#juros\n",
        "    elif pergunta == \"j\":\n",
        "        # Calculadora de Juros\n",
        "        #formila de juros = M(C * (1+i ** t))\n",
        "        C = float(input(\"Seu dinheiro:\"))\n",
        "        i = float(input(\"taxa de juros\")) / 100\n",
        "        t = float(input(\"tempo:\"))\n",
        "        M = (C*((1+i)**t))\n",
        "\n",
        "        res = f\"seu dinheiro é R${M:.2f}\"\n",
        "\n",
        "        print(res)\n",
        "\n",
        "\n",
        "#salário\n",
        "    elif pergunta == \"s\":\n",
        "\n",
        "    nome=str(input(\"Escreva seu nome:\"))\n",
        "    salario=float(input(\"Digite seu salário atual:\"))\n",
        "    aumento=float(input(\"quanto vc quer de aumento:\"))\n",
        "    total=salario*(1+(aumento / 100))\n",
        "    res=f\"Seu novo salário é R${total:.2f}, e a porcentagem do aumento foi de {aumento}%\"\n",
        "\n",
        "    if total >= salario*2:\n",
        "        print(f\"O salário novo não pode exceder o dobro do antigo!! O resultado foi R${total:.2f}\")\n",
        "\n",
        "    else:\n",
        "        print(res)\n",
        "\n",
        "\n",
        "#tabuada\n",
        "    elif pergunta == \"t\":\n",
        "    # Tabuada\n",
        "    x = 1\n",
        "    n = int(input(\"Qual número?:\"))\n",
        "    multiplicacao = int(input(\"Quantas operações vc quer?:\"))\n",
        "\n",
        "    while x <= multiplicacao:\n",
        "        r = x*n\n",
        "        x = x + 1\n",
        "        print(f\"{n}x{x -1}={r}\")\n",
        "        exit = False\n",
        "\n",
        "#saida\n",
        "if exit =\n",
        "    while not exit:\n",
        "        exit = input(\"quer sair\")\n",
        "        if exit == \"sim\":\n",
        "            exit = True\n",
        "            print(\"Tchau\")\n",
        "\n",
        "\n",
        "        else:\n",
        "            exit = False\n",
        "            print(\"digite sim para sair\")\n",
        "\n",
        "\n",
        "\n",
        "\n",
        "\n",
        "\n"
      ]
    },
    {
      "cell_type": "code",
      "execution_count": null,
      "metadata": {
        "id": "eis9T9AJc0L4"
      },
      "outputs": [],
      "source": [
        "n = 1\n",
        "soma = 0\n",
        "while n <= \"p\" :\n",
        "  x = input(f\"digite o {n} numero\")\n",
        "  soma = soma + x\n",
        "  n = n + 1\n",
        "print(f\"a soma é {soma}\")"
      ]
    },
    {
      "cell_type": "code",
      "execution_count": null,
      "metadata": {
        "id": "VIliSIU5dwqR"
      },
      "outputs": [],
      "source": [
        "notas = [9, 8, 4, 7, 2, 5, 5, 7, 4, 1, 7, 4, 9, 7, 4, 6, 3, 2, 5]\n",
        "#notas.sort()\n",
        "i = 9\n",
        "while i <= len(notas):\n",
        "      print(notas[i], end = \",\")\n",
        "      i = i - 1\n",
        "\n",
        "\n"
      ]
    },
    {
      "cell_type": "code",
      "execution_count": null,
      "metadata": {
        "id": "ZiPvzVuFbt4r"
      },
      "outputs": [],
      "source": []
    },
    {
      "cell_type": "markdown",
      "metadata": {
        "id": "Nx-885nFN3L2"
      },
      "source": []
    },
    {
      "cell_type": "code",
      "execution_count": null,
      "metadata": {
        "id": "oiMn5XlsLKto"
      },
      "outputs": [],
      "source": [
        "lista = []\n",
        "pergunta = 1\n",
        "x = 1\n",
        "if pergunta != 0:\n",
        "  pergunta = input(f\"digite o {x} numero\")\n",
        "break\n",
        "\n"
      ]
    },
    {
      "cell_type": "code",
      "execution_count": null,
      "metadata": {
        "id": "6Mpez3a2P59C"
      },
      "outputs": [],
      "source": [
        "#Adicionar itens na lista\n",
        "\n",
        "l = []\n",
        "while True:\n",
        "  i = int(input(\"Digite um número que não seja 0:\"))\n",
        "  if i == 0:\n",
        "    break\n",
        "  l.append(i)\n",
        "print(f\"essa é minnha lista{l}\")"
      ]
    },
    {
      "cell_type": "code",
      "execution_count": null,
      "metadata": {
        "id": "7xYQQzztRONf"
      },
      "outputs": [],
      "source": [
        "texto = input(\"digite o texto\")\n",
        "pergunta  = input(\"qual letra?\")\n",
        "soma = 0\n",
        "\n",
        "for i in texto:\n",
        "  if i.lower() == pergunta:\n",
        "    soma += 1\n",
        "print(soma)"
      ]
    },
    {
      "cell_type": "code",
      "execution_count": null,
      "metadata": {
        "id": "1VraFHeuk_pf"
      },
      "outputs": [],
      "source": [
        "texto = input()\n",
        "pergunta = input()\n",
        "soma = 0\n",
        "\n",
        "texto.count(pergunta)"
      ]
    },
    {
      "cell_type": "code",
      "execution_count": null,
      "metadata": {
        "id": "-fB4jCwjmP1K"
      },
      "outputs": [],
      "source": []
    },
    {
      "cell_type": "code",
      "execution_count": null,
      "metadata": {
        "id": "5RY58rpyYsZd"
      },
      "outputs": [],
      "source": [
        "nome  = str(input(\"Qual seu nome\"))\n",
        "idade  =  int(input(\"sua idade\"))\n",
        "altura  = float(input(\"Sua altura:\"))\n",
        "sexo = \"Masculino\"\n",
        "\n",
        "print(f\"meu nome é {nome}, minha altura é {altura:.2f}, e meu sexo é {sexo}\")"
      ]
    },
    {
      "cell_type": "code",
      "execution_count": null,
      "metadata": {
        "id": "PNn718SkZQpO"
      },
      "outputs": [],
      "source": [
        "dicionario = {'Nomes'  :  ['neto', 'kaiky', 'trevelin'],\n",
        "              'Idades' : [21,19,20],}"
      ]
    },
    {
      "cell_type": "code",
      "execution_count": null,
      "metadata": {
        "id": "Dvz1lQdnaqmz"
      },
      "outputs": [],
      "source": [
        "dicionario['Nomes']"
      ]
    },
    {
      "cell_type": "code",
      "execution_count": null,
      "metadata": {
        "id": "M8lnOCj-a1WP"
      },
      "outputs": [],
      "source": []
    },
    {
      "cell_type": "code",
      "execution_count": null,
      "metadata": {
        "id": "DHmm1Rb7hiJ-"
      },
      "outputs": [],
      "source": [
        "d = {}\n",
        "d.get('a', 0)"
      ]
    },
    {
      "cell_type": "code",
      "execution_count": null,
      "metadata": {
        "id": "t-f6HzY0hmq3"
      },
      "outputs": [],
      "source": [
        "#printar as letras de cada palavra, útil para usar letra por letra\n",
        "\n",
        "palavra = 'eu estuid liberra. Ut lis una. Curabitur consectetur elementum enim, non variuo unasp'\n",
        "for i in palavra:\n",
        "  print(i)"
      ]
    },
    {
      "cell_type": "code",
      "execution_count": null,
      "metadata": {
        "id": "wVIflVXvjrRf"
      },
      "outputs": [],
      "source": [
        "x = {'a' : 1, 'b': 2}\n",
        "x.get('a', 0)"
      ]
    },
    {
      "cell_type": "code",
      "execution_count": null,
      "metadata": {
        "id": "F4JtpwOXJdJQ"
      },
      "outputs": [],
      "source": [
        "#pprint é uma forma de imprimir de forma mais bonita os códigos\n",
        "\n",
        "import pprint\n",
        "palavra = input(\"escreva a palavra\")\n",
        "d = {}\n",
        "for letra in palavra:\n",
        "  d[letra] = d.get(letra, 0) + 1\n",
        "for letra in d.keys():\n",
        "  d[letra] = d[letra] * chr(9608)\n",
        "\n",
        "pp = pprint.PrettyPrinter(width=10)\n",
        "pp.pprint(d)\n"
      ]
    },
    {
      "cell_type": "code",
      "execution_count": null,
      "metadata": {
        "id": "ast7ReaSKQ8b"
      },
      "outputs": [],
      "source": [
        "#Conjuntos\n",
        "\n",
        "A = {1, 2, 3}\n",
        "B = {3 , 5, 7}\n",
        "A | B # é a mesma coisa que união = A U B\n",
        "A & B # é a"
      ]
    },
    {
      "cell_type": "code",
      "execution_count": null,
      "metadata": {
        "id": "Jx3ohNx3o4ws"
      },
      "outputs": [],
      "source": [
        "#listas\n",
        "\n",
        "a = [1, 2, 3, 4]\n",
        "b = [3, 4, 5, 6]\n",
        "a + b\n",
        "\n",
        "# funcionam tambem com strings, floats e inteiros.\n",
        "\n",
        "c = [\"teste\", 123, 12.42]\n",
        "print(c)"
      ]
    },
    {
      "cell_type": "code",
      "execution_count": null,
      "metadata": {
        "id": "hIZ1TdTOpHE_"
      },
      "outputs": [],
      "source": [
        "#teste de funcao delta\n",
        "\n",
        "def delta(a, b, c):\n",
        "   (b**2) - 4 *(a*c)\n",
        "\n",
        "delta(a = input(\"primeiro numero\"), b = input(\"segundo numero\"), c = input(\"terceiro numero\"))\n"
      ]
    },
    {
      "cell_type": "code",
      "execution_count": null,
      "metadata": {
        "id": "yaOP2PKupLuZ"
      },
      "outputs": [],
      "source": [
        "\n",
        "\n",
        "\n"
      ]
    },
    {
      "cell_type": "code",
      "execution_count": null,
      "metadata": {
        "id": "CtE9eBauna3r"
      },
      "outputs": [],
      "source": [
        "def soma_elementos(l):\n",
        "  for e in"
      ]
    },
    {
      "cell_type": "code",
      "execution_count": null,
      "metadata": {
        "id": "AV36L9xuZuyC"
      },
      "outputs": [],
      "source": [
        "#soma de listas\n",
        "\n",
        "def soma_lista(lista):\n",
        "  soma = 0\n",
        "  for e in lista:\n",
        "    soma = soma + e\n",
        "  return soma\n",
        "\n",
        "soma_lista([1,2,3,4,5])"
      ]
    },
    {
      "cell_type": "code",
      "execution_count": null,
      "metadata": {
        "id": "GKqSDRx5aFur"
      },
      "outputs": [],
      "source": [
        "#variáveis locais e Globais\n",
        "\n",
        "a = \"global\"\n",
        "def f():\n",
        "  a = \"local\"\n",
        "  print(a)\n",
        "\n",
        "f()\n",
        "print(a)"
      ]
    },
    {
      "cell_type": "markdown",
      "metadata": {
        "id": "NwCJIRrPhvVs"
      },
      "source": [
        "Escrever uma fincao qie calcula o amumento salarial de um profissional dependendo do cargo. Se for junior o aumento é de 10%, pleno = 20% e senior = 30%, ela deve receber coo argumanto o cargo e retornar o aumento."
      ]
    },
    {
      "cell_type": "code",
      "execution_count": null,
      "metadata": {
        "id": "2RxxXfp7fN_M"
      },
      "outputs": [],
      "source": [
        "#atividade dia 03/04\n",
        "\n",
        "\n",
        "def calculo(taxa):\n",
        "\n",
        "    if taxa == \"1\":\n",
        "      return [1.1 , \"junior\"]\n",
        "    elif taxa == \"2\":\n",
        "      return [1.2 , \"Pleno\"]\n",
        "    elif taxa == \"3\":\n",
        "      return [1.3 , \"Sênior\"]\n",
        "\n",
        "\n",
        "while True:\n",
        "  pergunta = input(\"Quer adicionar seu salário? [Y] sim, [N] não \")\n",
        "  if pergunta == \"n\":\n",
        "    salario = 1550\n",
        "    break\n",
        "  else:\n",
        "    salario = float(input(\"qual seu salário?: \"))\n",
        "    break\n",
        "\n",
        "\n",
        "taxa = input(\"Qual seu cargo: (1)Junior, (2)Pleno, (3)Senior: \")\n",
        "print(f\"Seu novo salário como {calculo(taxa)[1]} é R${(calculo(taxa)[0] * salario)}\")\n"
      ]
    },
    {
      "cell_type": "code",
      "execution_count": null,
      "metadata": {
        "id": "Os32-EEWl1_U"
      },
      "outputs": [],
      "source": [
        "#Usando randint e from random: uma forma de adicionar aleatoriedade no seu código. Exemplo: Probabilidade de chuva.\n",
        "\n",
        "\n",
        "from random import randint\n",
        "\n",
        "\n",
        "\n",
        "def prob(chuva):\n",
        "  if chuva <= 60:\n",
        "    return [\"bom\",  \"não precisa de guarda chuva.\"]\n",
        "  else:\n",
        "    return [\"ruim\", \"leve guarda chuva!!!!!!!!!\"]\n",
        "\n",
        "chuva = randint(0, 100)\n",
        "\n",
        "print(f\"Probabilidade de chuva é: {chuva}% \\nO clima está {prob(chuva)[0]}, então {prob(chuva)[1]}\")\n",
        "\n"
      ]
    },
    {
      "cell_type": "code",
      "execution_count": null,
      "metadata": {
        "id": "IGD-iAJtuAU-"
      },
      "outputs": [],
      "source": [
        "while True:\n",
        "  try:\n",
        "    x = float(input(\"Adicione o número que quer elevar ao quadrado, ou 0 pra sair:  \"))\n",
        "    if x ==  \"pi\":\n",
        "\n",
        "      print(\"3.14159265359\")\n",
        "    elif x == 0:\n",
        "      print(\"Tchau\")\n",
        "      break\n",
        "    else: print(x ** 2)\n",
        "\n",
        "\n",
        "  #except ValueError as err:\n",
        "    #print(\"mano, escreve só mumeros\")\n",
        " # except TypeError as err:\n",
        "  # print('mano, tu botou letra, é numero')\n"
      ]
    },
    {
      "cell_type": "code",
      "execution_count": null,
      "metadata": {
        "colab": {
          "background_save": true,
          "base_uri": "https://localhost:8080/",
          "height": 106
        },
        "id": "uoT97pqym6fV",
        "outputId": "36e21265-424c-4fc9-8edd-588a1b8abf62"
      },
      "outputs": [
        {
          "name": "stdout",
          "output_type": "stream",
          "text": [
            "\n",
            "Velocidade: 12Km/h, \n",
            "Tudo ok, boa viagem.\n",
            "\n",
            "\n",
            "Velocidade: 23Km/h, \n",
            "Tudo ok, boa viagem.\n",
            "\n",
            "\n",
            "Infração de velocidade\n",
            " Sua velocidade foi 89Km/h \n",
            "Multa de R$45.00\n",
            "\n",
            "\n",
            " Até logo e boa viagem!\n"
          ]
        }
      ],
      "source": [
        "while True:\n",
        "  try:\n",
        "    velocidade = int(input(\"Qual a velocidade do veículo:\\n (Digite [000] para sair)\\n \"))\n",
        "    multa = velocidade - 80\n",
        "    if velocidade > 80:\n",
        "      print(f\"\\nInfração de velocidade\\n Sua velocidade foi {velocidade}Km/h \\nMulta de R${multa * 5:.2f}\\n\")\n",
        "    elif velocidade == 000:\n",
        "      print(\"\\n Até logo e boa viagem!\")\n",
        "      break\n",
        "    else:\n",
        "      print(f\"\\nVelocidade: {velocidade}Km/h, \\nTudo ok, boa viagem.\\n\")\n",
        "  except ValueError:\n",
        "    print(\"Apenas números\")\n",
        "  except NameError:\n",
        "    print(\"nome invalido\")\n",
        "\n",
        "\n",
        "\n",
        "\n",
        "\n",
        "\n",
        "\n",
        "\n",
        "\n",
        "\n",
        "\n",
        "\n",
        "\n",
        "\n"
      ]
    },
    {
      "cell_type": "code",
      "execution_count": null,
      "metadata": {
        "colab": {
          "base_uri": "https://localhost:8080/",
          "height": 522
        },
        "id": "mQrd9hbmjliY",
        "outputId": "d877b372-345c-409f-92c4-0b8c3731b51c"
      },
      "outputs": [
        {
          "output_type": "stream",
          "name": "stdout",
          "text": [
            "Digite a velocidade: 51516\n",
            "Katchau\n",
            "type error\n",
            "Digite a velocidade: 0\n",
            " 🗣🗣🗣🗣🗣🗣🗣🗣🗣🗣🗣🗣🗣🗣🗣🗣🗣🗣🗣🗣Xau\n"
          ]
        },
        {
          "output_type": "display_data",
          "data": {
            "text/plain": [
              "<Figure size 640x480 with 1 Axes>"
            ],
            "image/png": "[encoded data removed]"
          },
          "metadata": {}
        }
      ],
      "source": [
        "import cv2\n",
        "from matplotlib import pyplot as plt\n",
        "\n",
        "imagem = '/content/katchou.jpg'\n",
        "img = cv2.imread(imagem)\n",
        "\n",
        "while True:\n",
        "  ruim = chr(128520)\n",
        "  bom = chr(128591)\n",
        "  adweus = chr(128483)\n",
        "  fast = chr(128498)\n",
        "\n",
        "  try:\n",
        "        velocidade = int(input(\"Digite a velocidade: \"))\n",
        "        if (velocidade > 80) & (velocidade < 256):\n",
        "            multa = (velocidade - 80)\n",
        "            print(f\"Infração Grave{ruim}\\nSua velocidade foi de {velocidade}Km/h\\n muito rápido {fast * multa}\\n Sua multa foi de R${multa*5:.2f}\")\n",
        "\n",
        "\n",
        "        elif velocidade >= 257:\n",
        "            print(\"Katchau\")\n",
        "            plt.imshow(img)\n",
        "            plt.axis('off')\n",
        "            plt.show()\n",
        "\n",
        "        elif velocidade == 0:\n",
        "            print(f\" {adweus * 20}Xau\")\n",
        "            break\n",
        "\n",
        "        else:\n",
        "            print(f\"Você não passou o limite, ou seja não foi multado\\n Parabens {bom}\")\n",
        "\n",
        "  except ValueError:\n",
        "        print(\"Valor Inválido\")\n",
        "  except TypeError:\n",
        "        print('type error')"
      ]
    },
    {
      "cell_type": "code",
      "execution_count": null,
      "metadata": {
        "id": "BolMHBgl5hGJ"
      },
      "outputs": [],
      "source": []
    },
    {
      "cell_type": "markdown",
      "source": [
        "Escreva um pprograma qur pergunte a distancia que um passageiro deseja parcorrar em k,. Clcule o preco da passagem, cobrando 0.50 por km para viagens daté 200 km e para viagens mais lonfas entre 200 e 400km sera cxobrado 0.45 por km, pra mais çlongas ainda se´r  cobrado 35 o programa só deve ser encerrado quando o usuário escrever sair."
      ],
      "metadata": {
        "id": "-GU_ezu0qP2z"
      }
    },
    {
      "cell_type": "code",
      "source": [
        "while True:\n",
        "  try:\n",
        "    distancia = float(input(\"\\nQual a distância da Viagem:\\n Digite (sair) para sair. \"))\n",
        "    taxa = 1.0\n",
        "\n",
        "\n",
        "    if distancia < 200:\n",
        "      taxa = 0.50\n",
        "      print(f\"\\nO custo da viagem foi R${distancia * taxa:.2f}\\n Boa viagem!\\n\")\n",
        "\n",
        "\n",
        "    elif (distancia >= 200) & (distancia < 400):\n",
        "      taxa = 0.45\n",
        "      print(f\"Custo por Km entre 200 e 400: {taxa}\\nO custo da viagem foi R${distancia * taxa}\\n Boa viagem!\\n\")\n",
        "\n",
        "    else:\n",
        "      taxa = 0.35\n",
        "      print(f\"\\nA viagem ultrapassa 400Km\\n O custo por Km é: R$0.35\\n o valor da viagem é: R${distancia * taxa}\")\n",
        "\n",
        "  except ValueError:\n",
        "      distancia = input(\"Voce nao digitou um numero, quer sair (digite sair)\")\n",
        "      if distancia == \"sair\":\n",
        "        print(\"Até logo e boa viagem\")\n",
        "        break\n",
        "      else:\n",
        "        print(\"Opção errada, tente novamente\")\n",
        "\n",
        "\n",
        "\n"
      ],
      "metadata": {
        "id": "apXb2EPiqzvb"
      },
      "execution_count": null,
      "outputs": []
    },
    {
      "cell_type": "code",
      "source": [
        "while True:\n",
        "\n",
        "  dist = input(\"distancia\")\n",
        "  if dist.upper() == \"SAIR\":\n",
        "    print(\"xau\")\n",
        "    break\n",
        "  else: dist = float(dist)\n",
        "\n",
        "  if dist < 200:\n",
        "\n",
        "    preco = dist * 0.5\n",
        "    print(f\"deu {preco} e a taxa de calculo foi {preco / dist}.\")\n",
        "\n",
        "  elif (dist >= 200) & (dist < 400):\n",
        "\n",
        "    preco = dist * 0.45\n",
        "    print(f\"deu {preco} e a taxa de calculo foi {preco / dist}\")\n",
        "\n",
        "  elif dist >= 400:\n",
        "\n",
        "    preco = dist * 0.35\n",
        "    print(f\"deu {preco} e a taxa de calculo foi {preco / dist}\")"
      ],
      "metadata": {
        "id": "1JuizIf3tmml",
        "colab": {
          "base_uri": "https://localhost:8080/",
          "height": 599
        },
        "outputId": "13deffe4-de72-4a1a-f32b-ed4fe6d5361c"
      },
      "execution_count": null,
      "outputs": [
        {
          "output_type": "stream",
          "name": "stdout",
          "text": [
            "distancia12\n",
            "deu 6.0 e a taxa de calculo foi 0.5\n",
            "distancia3\n",
            "deu 1.5 e a taxa de calculo foi 0.5\n",
            "distancia60\n",
            "deu 30.0 e a taxa de calculo foi 0.5\n",
            "distancia60506\n",
            "deu 21177.1 e a taxa de calculo foi 0.35\n",
            "distancia300\n",
            "deu 135.0 e a taxa de calculo foi 0.45\n",
            "distancia400\n",
            "distancia400\n",
            "distancia500\n",
            "deu 175.0 e a taxa de calculo foi 0.35\n"
          ]
        },
        {
          "output_type": "error",
          "ename": "KeyboardInterrupt",
          "evalue": "Interrupted by user",
          "traceback": [
            "\u001b[0;31m---------------------------------------------------------------------------\u001b[0m",
            "\u001b[0;31mKeyboardInterrupt\u001b[0m                         Traceback (most recent call last)",
            "\u001b[0;32m<ipython-input-16-02640a696902>\u001b[0m in \u001b[0;36m<cell line: 1>\u001b[0;34m()\u001b[0m\n\u001b[1;32m      1\u001b[0m \u001b[0;32mwhile\u001b[0m \u001b[0;32mTrue\u001b[0m\u001b[0;34m:\u001b[0m\u001b[0;34m\u001b[0m\u001b[0;34m\u001b[0m\u001b[0m\n\u001b[1;32m      2\u001b[0m \u001b[0;34m\u001b[0m\u001b[0m\n\u001b[0;32m----> 3\u001b[0;31m   \u001b[0mdist\u001b[0m \u001b[0;34m=\u001b[0m \u001b[0minput\u001b[0m\u001b[0;34m(\u001b[0m\u001b[0;34m\"distancia\"\u001b[0m\u001b[0;34m)\u001b[0m\u001b[0;34m\u001b[0m\u001b[0;34m\u001b[0m\u001b[0m\n\u001b[0m\u001b[1;32m      4\u001b[0m   \u001b[0;32mif\u001b[0m \u001b[0mdist\u001b[0m\u001b[0;34m.\u001b[0m\u001b[0mupper\u001b[0m\u001b[0;34m(\u001b[0m\u001b[0;34m)\u001b[0m \u001b[0;34m==\u001b[0m \u001b[0;34m\"SAIR\"\u001b[0m\u001b[0;34m:\u001b[0m\u001b[0;34m\u001b[0m\u001b[0;34m\u001b[0m\u001b[0m\n\u001b[1;32m      5\u001b[0m     \u001b[0mprint\u001b[0m\u001b[0;34m(\u001b[0m\u001b[0;34m\"xau\"\u001b[0m\u001b[0;34m)\u001b[0m\u001b[0;34m\u001b[0m\u001b[0;34m\u001b[0m\u001b[0m\n",
            "\u001b[0;32m/usr/local/lib/python3.10/dist-packages/ipykernel/kernelbase.py\u001b[0m in \u001b[0;36mraw_input\u001b[0;34m(self, prompt)\u001b[0m\n\u001b[1;32m    849\u001b[0m                 \u001b[0;34m\"raw_input was called, but this frontend does not support input requests.\"\u001b[0m\u001b[0;34m\u001b[0m\u001b[0;34m\u001b[0m\u001b[0m\n\u001b[1;32m    850\u001b[0m             )\n\u001b[0;32m--> 851\u001b[0;31m         return self._input_request(str(prompt),\n\u001b[0m\u001b[1;32m    852\u001b[0m             \u001b[0mself\u001b[0m\u001b[0;34m.\u001b[0m\u001b[0m_parent_ident\u001b[0m\u001b[0;34m,\u001b[0m\u001b[0;34m\u001b[0m\u001b[0;34m\u001b[0m\u001b[0m\n\u001b[1;32m    853\u001b[0m             \u001b[0mself\u001b[0m\u001b[0;34m.\u001b[0m\u001b[0m_parent_header\u001b[0m\u001b[0;34m,\u001b[0m\u001b[0;34m\u001b[0m\u001b[0;34m\u001b[0m\u001b[0m\n",
            "\u001b[0;32m/usr/local/lib/python3.10/dist-packages/ipykernel/kernelbase.py\u001b[0m in \u001b[0;36m_input_request\u001b[0;34m(self, prompt, ident, parent, password)\u001b[0m\n\u001b[1;32m    893\u001b[0m             \u001b[0;32mexcept\u001b[0m \u001b[0mKeyboardInterrupt\u001b[0m\u001b[0;34m:\u001b[0m\u001b[0;34m\u001b[0m\u001b[0;34m\u001b[0m\u001b[0m\n\u001b[1;32m    894\u001b[0m                 \u001b[0;31m# re-raise KeyboardInterrupt, to truncate traceback\u001b[0m\u001b[0;34m\u001b[0m\u001b[0;34m\u001b[0m\u001b[0m\n\u001b[0;32m--> 895\u001b[0;31m                 \u001b[0;32mraise\u001b[0m \u001b[0mKeyboardInterrupt\u001b[0m\u001b[0;34m(\u001b[0m\u001b[0;34m\"Interrupted by user\"\u001b[0m\u001b[0;34m)\u001b[0m \u001b[0;32mfrom\u001b[0m \u001b[0;32mNone\u001b[0m\u001b[0;34m\u001b[0m\u001b[0;34m\u001b[0m\u001b[0m\n\u001b[0m\u001b[1;32m    896\u001b[0m             \u001b[0;32mexcept\u001b[0m \u001b[0mException\u001b[0m \u001b[0;32mas\u001b[0m \u001b[0me\u001b[0m\u001b[0;34m:\u001b[0m\u001b[0;34m\u001b[0m\u001b[0;34m\u001b[0m\u001b[0m\n\u001b[1;32m    897\u001b[0m                 \u001b[0mself\u001b[0m\u001b[0;34m.\u001b[0m\u001b[0mlog\u001b[0m\u001b[0;34m.\u001b[0m\u001b[0mwarning\u001b[0m\u001b[0;34m(\u001b[0m\u001b[0;34m\"Invalid Message:\"\u001b[0m\u001b[0;34m,\u001b[0m \u001b[0mexc_info\u001b[0m\u001b[0;34m=\u001b[0m\u001b[0;32mTrue\u001b[0m\u001b[0;34m)\u001b[0m\u001b[0;34m\u001b[0m\u001b[0;34m\u001b[0m\u001b[0m\n",
            "\u001b[0;31mKeyboardInterrupt\u001b[0m: Interrupted by user"
          ]
        }
      ]
    },
    {
      "cell_type": "code",
      "source": [
        "50"
      ],
      "metadata": {
        "id": "2WydrtONjR8d"
      },
      "execution_count": null,
      "outputs": []
    }
  ],
  "metadata": {
    "colab": {
      "provenance": [],
      "authorship_tag": "ABX9TyMl+OEg7itDm8tPSerAGQkj",
      "include_colab_link": true
    },
    "kernelspec": {
      "display_name": "Python 3",
      "name": "python3"
    },
    "language_info": {
      "name": "python"
    }
  },
  "nbformat": 4,
  "nbformat_minor": 0
}